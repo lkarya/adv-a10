{
 "cells": [
  {
   "cell_type": "code",
   "execution_count": 2,
   "id": "4ccde682",
   "metadata": {},
   "outputs": [],
   "source": [
    "# What is the difference between __getattr__ and __getattribute__?\n",
    "\n",
    "# __getattribute__ has a default implementation, but __getattr__ does not. \n"
   ]
  },
  {
   "cell_type": "code",
   "execution_count": 3,
   "id": "13046ad7",
   "metadata": {},
   "outputs": [],
   "source": [
    "# What is the difference between properties and descriptors?\n",
    "\n",
    "# descriptors are a low-level mechanism that lets you hook into an object's attributes being accessed. Properties are a high-level application of this; that is, properties are implemented using descriptors."
   ]
  },
  {
   "cell_type": "code",
   "execution_count": null,
   "id": "699415cc",
   "metadata": {},
   "outputs": [],
   "source": [
    "# What are the key differences in functionality between __getattr__ and __getattribute__, as well as properties and descriptors?\n",
    "\n",
    "# A key difference between __getattr__ and __getattribute__ is that __getattr__ is only invoked if the attribute wasn't found the usual ways."
   ]
  }
 ],
 "metadata": {
  "kernelspec": {
   "display_name": "Python 3 (ipykernel)",
   "language": "python",
   "name": "python3"
  },
  "language_info": {
   "codemirror_mode": {
    "name": "ipython",
    "version": 3
   },
   "file_extension": ".py",
   "mimetype": "text/x-python",
   "name": "python",
   "nbconvert_exporter": "python",
   "pygments_lexer": "ipython3",
   "version": "3.9.7"
  }
 },
 "nbformat": 4,
 "nbformat_minor": 5
}
